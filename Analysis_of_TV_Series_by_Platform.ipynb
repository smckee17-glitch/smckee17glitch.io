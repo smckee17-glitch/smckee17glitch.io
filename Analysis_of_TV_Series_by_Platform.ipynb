{
  "nbformat": 4,
  "nbformat_minor": 0,
  "metadata": {
    "colab": {
      "name": "Analysis of TV Series by Platform.ipynb",
      "provenance": [],
      "collapsed_sections": [],
      "include_colab_link": true
    },
    "kernelspec": {
      "name": "python3",
      "display_name": "Python 3"
    }
  },
  "cells": [
    {
      "cell_type": "markdown",
      "metadata": {
        "id": "view-in-github",
        "colab_type": "text"
      },
      "source": [
        "<a href=\"https://colab.research.google.com/github/smckee17-glitch/smckee17glitch.io/blob/master/Analysis_of_TV_Series_by_Platform.ipynb\" target=\"_parent\"><img src=\"https://colab.research.google.com/assets/colab-badge.svg\" alt=\"Open In Colab\"/></a>"
      ]
    },
    {
      "cell_type": "code",
      "metadata": {
        "colab": {
          "base_uri": "https://localhost:8080/"
        },
        "id": "vQRHelz6nUpD",
        "outputId": "41597b56-e524-4727-c935-61b1273c76f5"
      },
      "source": [
        "from google.colab import drive\n",
        "drive.mount('/content/gdrive')\n"
      ],
      "execution_count": null,
      "outputs": [
        {
          "output_type": "stream",
          "text": [
            "Mounted at /content/gdrive\n"
          ],
          "name": "stdout"
        }
      ]
    },
    {
      "cell_type": "markdown",
      "metadata": {
        "id": "wsC5eEG0o5Yi"
      },
      "source": [
        "#Intro\n",
        "\n",
        "*TV shows on Netflix, Prime Video, Hulu, and Disney Plus* is a comprehensive data set of TV series available on the various streaming platforms. The dataset has 11 columns and 5612 rows that include the TV show ID, TV show title, year TV series was produced, target age group, IMDb rating, Rotten Tomatoes %, and whether the show is available on Netflix, Prime Video, Hulu, or Disney+.The data set contains both categorical and quantitative data types. The only categorical data is nominal (the titles of the TV series). The rest of the data is quantitative, all of which are discrete except the year TV series were produced which is continuous. \n"
      ]
    },
    {
      "cell_type": "code",
      "metadata": {
        "id": "cMpKJU-aow_2"
      },
      "source": [
        "# Import \n",
        "\n",
        "import pandas as pd\n",
        "import numpy as np\n",
        "import seaborn as sns\n",
        "import matplotlib.pyplot as plt\n",
        "import matplotlib.pyplot as plt\n",
        "%matplotlib inline\n",
        "import matplotlib.image as mpimg\n",
        "import math\n",
        "import plotly.express as px\n",
        "import plotly.graph_objects as go\n",
        "\n",
        "from matplotlib.offsetbox import (TextArea, DrawingArea, OffsetImage,\n",
        "                                  AnnotationBbox)\n",
        "from plotly.colors import n_colors\n",
        "from IPython.display import Image\n"
      ],
      "execution_count": null,
      "outputs": []
    },
    {
      "cell_type": "code",
      "metadata": {
        "colab": {
          "base_uri": "https://localhost:8080/",
          "height": 204
        },
        "id": "lkMskf3frhrv",
        "outputId": "e828c968-17ea-408b-d93a-f41aafdade46"
      },
      "source": [
        "#Read in our GDrive-mounted csv\n",
        "df = pd.read_csv('/content/gdrive/My Drive/Colab Datasets/tv_shows.csv')\n",
        "df.head()"
      ],
      "execution_count": null,
      "outputs": [
        {
          "output_type": "execute_result",
          "data": {
            "text/html": [
              "<div>\n",
              "<style scoped>\n",
              "    .dataframe tbody tr th:only-of-type {\n",
              "        vertical-align: middle;\n",
              "    }\n",
              "\n",
              "    .dataframe tbody tr th {\n",
              "        vertical-align: top;\n",
              "    }\n",
              "\n",
              "    .dataframe thead th {\n",
              "        text-align: right;\n",
              "    }\n",
              "</style>\n",
              "<table border=\"1\" class=\"dataframe\">\n",
              "  <thead>\n",
              "    <tr style=\"text-align: right;\">\n",
              "      <th></th>\n",
              "      <th>ID</th>\n",
              "      <th>Title</th>\n",
              "      <th>Year</th>\n",
              "      <th>Age</th>\n",
              "      <th>IMDb</th>\n",
              "      <th>Rotten Tomatoes</th>\n",
              "      <th>Netflix</th>\n",
              "      <th>Hulu</th>\n",
              "      <th>Prime Video</th>\n",
              "      <th>Disney+</th>\n",
              "      <th>type</th>\n",
              "    </tr>\n",
              "  </thead>\n",
              "  <tbody>\n",
              "    <tr>\n",
              "      <th>0</th>\n",
              "      <td>0</td>\n",
              "      <td>Breaking Bad</td>\n",
              "      <td>2008</td>\n",
              "      <td>18+</td>\n",
              "      <td>9.5</td>\n",
              "      <td>96%</td>\n",
              "      <td>1</td>\n",
              "      <td>0</td>\n",
              "      <td>0</td>\n",
              "      <td>0</td>\n",
              "      <td>1</td>\n",
              "    </tr>\n",
              "    <tr>\n",
              "      <th>1</th>\n",
              "      <td>1</td>\n",
              "      <td>Stranger Things</td>\n",
              "      <td>2016</td>\n",
              "      <td>16+</td>\n",
              "      <td>8.8</td>\n",
              "      <td>93%</td>\n",
              "      <td>1</td>\n",
              "      <td>0</td>\n",
              "      <td>0</td>\n",
              "      <td>0</td>\n",
              "      <td>1</td>\n",
              "    </tr>\n",
              "    <tr>\n",
              "      <th>2</th>\n",
              "      <td>2</td>\n",
              "      <td>Money Heist</td>\n",
              "      <td>2017</td>\n",
              "      <td>18+</td>\n",
              "      <td>8.4</td>\n",
              "      <td>91%</td>\n",
              "      <td>1</td>\n",
              "      <td>0</td>\n",
              "      <td>0</td>\n",
              "      <td>0</td>\n",
              "      <td>1</td>\n",
              "    </tr>\n",
              "    <tr>\n",
              "      <th>3</th>\n",
              "      <td>3</td>\n",
              "      <td>Sherlock</td>\n",
              "      <td>2010</td>\n",
              "      <td>16+</td>\n",
              "      <td>9.1</td>\n",
              "      <td>78%</td>\n",
              "      <td>1</td>\n",
              "      <td>0</td>\n",
              "      <td>0</td>\n",
              "      <td>0</td>\n",
              "      <td>1</td>\n",
              "    </tr>\n",
              "    <tr>\n",
              "      <th>4</th>\n",
              "      <td>4</td>\n",
              "      <td>Better Call Saul</td>\n",
              "      <td>2015</td>\n",
              "      <td>18+</td>\n",
              "      <td>8.7</td>\n",
              "      <td>97%</td>\n",
              "      <td>1</td>\n",
              "      <td>0</td>\n",
              "      <td>0</td>\n",
              "      <td>0</td>\n",
              "      <td>1</td>\n",
              "    </tr>\n",
              "  </tbody>\n",
              "</table>\n",
              "</div>"
            ],
            "text/plain": [
              "   ID             Title  Year  Age  ...  Hulu Prime Video  Disney+  type\n",
              "0   0      Breaking Bad  2008  18+  ...     0           0        0     1\n",
              "1   1   Stranger Things  2016  16+  ...     0           0        0     1\n",
              "2   2       Money Heist  2017  18+  ...     0           0        0     1\n",
              "3   3          Sherlock  2010  16+  ...     0           0        0     1\n",
              "4   4  Better Call Saul  2015  18+  ...     0           0        0     1\n",
              "\n",
              "[5 rows x 11 columns]"
            ]
          },
          "metadata": {
            "tags": []
          },
          "execution_count": 8
        }
      ]
    },
    {
      "cell_type": "markdown",
      "metadata": {
        "id": "teMEGnXB00M6"
      },
      "source": [
        "## Features\n",
        "**Age**: is the age range advised for viewers to watch the content. \n",
        "\n",
        "**IMDb**: is an online database of information related to films, television programs, home videos, video games, and streaming content online – including cast, production crew, and personal biographies, plot summaries, trivia, ratings, and fan, and critical reviews. Ratings are scored on a scale of 1-10.\n",
        "\n",
        "**Rotten Tomatoes**: is an American review-aggregation website for film and television. Ratings are score on a scale of 1-100%.\n",
        "\n",
        "**Netflix**: is a subscription-based streaming service that allows our members to watch a wide variety of award-winning TV shows, movies, documentaries, and more on thousands of internet-connected devices.\n",
        "\n",
        "**Hulu**: is the leading premium streaming service offering live and on-demand TV and movies, with and without commercials, both in and outside the home.\n",
        "\n",
        "**Prime Video**:  is a video streaming service available for Amazon Prime members. With an eligible Amazon Prime membership, you have access to thousands of Prime Video titles at no additional cost.\n",
        "\n",
        "**Disney+**: is the exclusive home for your favorite movies and TV shows from Disney, Pixar, Marvel, Star Wars, and National Geographic."
      ]
    },
    {
      "cell_type": "markdown",
      "metadata": {
        "id": "T6CmPPFOtGRP"
      },
      "source": [
        "#Comparing Streaming Services"
      ]
    },
    {
      "cell_type": "code",
      "metadata": {
        "colab": {
          "base_uri": "https://localhost:8080/",
          "height": 334
        },
        "id": "-VOeeJFE6U1s",
        "outputId": "63d521c9-95af-49f5-da13-05284646ef19"
      },
      "source": [
        "df.describe()"
      ],
      "execution_count": null,
      "outputs": [
        {
          "output_type": "execute_result",
          "data": {
            "text/html": [
              "<div>\n",
              "<style scoped>\n",
              "    .dataframe tbody tr th:only-of-type {\n",
              "        vertical-align: middle;\n",
              "    }\n",
              "\n",
              "    .dataframe tbody tr th {\n",
              "        vertical-align: top;\n",
              "    }\n",
              "\n",
              "    .dataframe thead th {\n",
              "        text-align: right;\n",
              "    }\n",
              "</style>\n",
              "<table border=\"1\" class=\"dataframe\">\n",
              "  <thead>\n",
              "    <tr style=\"text-align: right;\">\n",
              "      <th></th>\n",
              "      <th>ID</th>\n",
              "      <th>Year</th>\n",
              "      <th>IMDb</th>\n",
              "      <th>Netflix</th>\n",
              "      <th>Hulu</th>\n",
              "      <th>Prime Video</th>\n",
              "      <th>Disney+</th>\n",
              "      <th>type</th>\n",
              "      <th>rating_Netflix</th>\n",
              "      <th>rating_Hulu</th>\n",
              "    </tr>\n",
              "  </thead>\n",
              "  <tbody>\n",
              "    <tr>\n",
              "      <th>count</th>\n",
              "      <td>5611.000000</td>\n",
              "      <td>5611.000000</td>\n",
              "      <td>4450.000000</td>\n",
              "      <td>5611.000000</td>\n",
              "      <td>5611.000000</td>\n",
              "      <td>5611.000000</td>\n",
              "      <td>5611.000000</td>\n",
              "      <td>5611.0</td>\n",
              "      <td>4450.000000</td>\n",
              "      <td>4450.000000</td>\n",
              "    </tr>\n",
              "    <tr>\n",
              "      <th>mean</th>\n",
              "      <td>2805.000000</td>\n",
              "      <td>2011.021030</td>\n",
              "      <td>7.113258</td>\n",
              "      <td>0.344145</td>\n",
              "      <td>0.312600</td>\n",
              "      <td>0.382107</td>\n",
              "      <td>0.032080</td>\n",
              "      <td>1.0</td>\n",
              "      <td>2.915213</td>\n",
              "      <td>2.407124</td>\n",
              "    </tr>\n",
              "    <tr>\n",
              "      <th>std</th>\n",
              "      <td>1619.900511</td>\n",
              "      <td>11.005116</td>\n",
              "      <td>1.132060</td>\n",
              "      <td>0.475131</td>\n",
              "      <td>0.463594</td>\n",
              "      <td>0.485946</td>\n",
              "      <td>0.176228</td>\n",
              "      <td>0.0</td>\n",
              "      <td>3.587296</td>\n",
              "      <td>3.419073</td>\n",
              "    </tr>\n",
              "    <tr>\n",
              "      <th>min</th>\n",
              "      <td>0.000000</td>\n",
              "      <td>1901.000000</td>\n",
              "      <td>1.000000</td>\n",
              "      <td>0.000000</td>\n",
              "      <td>0.000000</td>\n",
              "      <td>0.000000</td>\n",
              "      <td>0.000000</td>\n",
              "      <td>1.0</td>\n",
              "      <td>0.000000</td>\n",
              "      <td>0.000000</td>\n",
              "    </tr>\n",
              "    <tr>\n",
              "      <th>25%</th>\n",
              "      <td>1402.500000</td>\n",
              "      <td>2010.000000</td>\n",
              "      <td>6.600000</td>\n",
              "      <td>0.000000</td>\n",
              "      <td>0.000000</td>\n",
              "      <td>0.000000</td>\n",
              "      <td>0.000000</td>\n",
              "      <td>1.0</td>\n",
              "      <td>0.000000</td>\n",
              "      <td>0.000000</td>\n",
              "    </tr>\n",
              "    <tr>\n",
              "      <th>50%</th>\n",
              "      <td>2805.000000</td>\n",
              "      <td>2015.000000</td>\n",
              "      <td>7.300000</td>\n",
              "      <td>0.000000</td>\n",
              "      <td>0.000000</td>\n",
              "      <td>0.000000</td>\n",
              "      <td>0.000000</td>\n",
              "      <td>1.0</td>\n",
              "      <td>0.000000</td>\n",
              "      <td>0.000000</td>\n",
              "    </tr>\n",
              "    <tr>\n",
              "      <th>75%</th>\n",
              "      <td>4207.500000</td>\n",
              "      <td>2017.000000</td>\n",
              "      <td>7.900000</td>\n",
              "      <td>1.000000</td>\n",
              "      <td>1.000000</td>\n",
              "      <td>1.000000</td>\n",
              "      <td>0.000000</td>\n",
              "      <td>1.0</td>\n",
              "      <td>7.000000</td>\n",
              "      <td>6.600000</td>\n",
              "    </tr>\n",
              "    <tr>\n",
              "      <th>max</th>\n",
              "      <td>5610.000000</td>\n",
              "      <td>2020.000000</td>\n",
              "      <td>9.600000</td>\n",
              "      <td>1.000000</td>\n",
              "      <td>1.000000</td>\n",
              "      <td>1.000000</td>\n",
              "      <td>1.000000</td>\n",
              "      <td>1.0</td>\n",
              "      <td>9.500000</td>\n",
              "      <td>9.600000</td>\n",
              "    </tr>\n",
              "  </tbody>\n",
              "</table>\n",
              "</div>"
            ],
            "text/plain": [
              "                ID         Year  ...  rating_Netflix  rating_Hulu\n",
              "count  5611.000000  5611.000000  ...     4450.000000  4450.000000\n",
              "mean   2805.000000  2011.021030  ...        2.915213     2.407124\n",
              "std    1619.900511    11.005116  ...        3.587296     3.419073\n",
              "min       0.000000  1901.000000  ...        0.000000     0.000000\n",
              "25%    1402.500000  2010.000000  ...        0.000000     0.000000\n",
              "50%    2805.000000  2015.000000  ...        0.000000     0.000000\n",
              "75%    4207.500000  2017.000000  ...        7.000000     6.600000\n",
              "max    5610.000000  2020.000000  ...        9.500000     9.600000\n",
              "\n",
              "[8 rows x 10 columns]"
            ]
          },
          "metadata": {
            "tags": []
          },
          "execution_count": 43
        }
      ]
    },
    {
      "cell_type": "markdown",
      "metadata": {
        "id": "ihADB74etsFJ"
      },
      "source": [
        "## Steaming Service with highest number of TV series available"
      ]
    },
    {
      "cell_type": "code",
      "metadata": {
        "colab": {
          "base_uri": "https://localhost:8080/",
          "height": 474
        },
        "id": "vLRXlD7Pvii4",
        "outputId": "7d451224-540b-4c20-f123-dd2808ba9b83"
      },
      "source": [
        "#Dataframes for # of TV series for each streaming service \n",
        "netflix_sum = df['Netflix'].sum()\n",
        "hulu_sum = df['Hulu'].sum()\n",
        "prime_sum = df['Prime Video'].sum()\n",
        "disney_sum = df['Disney+'].sum()\n",
        "\n",
        "market_shares = [netflix_sum, hulu_sum, prime_sum, disney_sum]\n",
        "labels = ('Netflix', 'Hulu', 'Amazon Prime', 'Disney+')\n",
        "sep = (0.05, 0.05, 0.05, 0.05)\n",
        "\n",
        "fig, ax = plt.subplots()\n",
        "\n",
        "ax.pie(market_shares,\n",
        "      explode=sep,\n",
        "      labels = labels,\n",
        "      autopct = '%.1f%%',\n",
        "      radius=2,\n",
        "     textprops={'fontsize': 14})\n",
        "\n",
        "plt.show()\n",
        "\n",
        "print('Netflix offers ' + str(netflix_sum) + ' tv-shows')\n",
        "print('Hulu offers ' + str(hulu_sum) + ' tv-shows')\n",
        "print('Prime offers ' + str(prime_sum) + ' tv-shows')\n",
        "print('Disney+ offers ' + str(disney_sum) + ' tv-shows')"
      ],
      "execution_count": null,
      "outputs": [
        {
          "output_type": "display_data",
          "data": {
            "image/png": "[encoded data removed]",
            "text/plain": [
              "<Figure size 432x288 with 1 Axes>"
            ]
          },
          "metadata": {
            "tags": []
          }
        },
        {
          "output_type": "stream",
          "text": [
            "Netflix offers 1931 tv-shows\n",
            "Hulu offers 1754 tv-shows\n",
            "Prime offers 2144 tv-shows\n",
            "Disney+ offers 180 tv-shows\n"
          ],
          "name": "stdout"
        }
      ]
    },
    {
      "cell_type": "markdown",
      "metadata": {
        "id": "mIj7lDfcaA67"
      },
      "source": [
        "Prime Video is the leader in available TV series, followed by Netflix, then Hulu, as Disney is drastically the last in available TV series.\n",
        "\n",
        "\n"
      ]
    },
    {
      "cell_type": "markdown",
      "metadata": {
        "id": "rWuV4Zx5zCZn"
      },
      "source": [
        "##Streaming service with highest mean in TV series rating (by IMDb score)"
      ]
    },
    {
      "cell_type": "code",
      "metadata": {
        "id": "fzRvOJNx711i"
      },
      "source": [
        "labels = ['Netflix', 'Hulu', 'Prime Video', 'Disney+']"
      ],
      "execution_count": null,
      "outputs": []
    },
    {
      "cell_type": "code",
      "metadata": {
        "id": "uCHJHsMK8Bvs"
      },
      "source": [
        "for i in labels:\n",
        "  df['rating_'+i] = df['IMDb'] * df[i]"
      ],
      "execution_count": null,
      "outputs": []
    },
    {
      "cell_type": "code",
      "metadata": {
        "id": "vv_mgNpPzdp9"
      },
      "source": [
        "imdb_platforms = df.replace(0, np.nan)\n"
      ],
      "execution_count": null,
      "outputs": []
    },
    {
      "cell_type": "code",
      "metadata": {
        "colab": {
          "base_uri": "https://localhost:8080/",
          "height": 173
        },
        "id": "pYClk4n2zfWi",
        "outputId": "dcefbf56-e590-4163-9047-262675d0cf88"
      },
      "source": [
        "imdb_platforms = imdb_platforms[['rating_Netflix', 'rating_Hulu', 'rating_Prime Video', 'rating_Disney+']].mean().reset_index()\n",
        "imdb_platforms.columns = ['ratings', 'mean']\n",
        "imdb_platforms.sort_values(by='mean', ascending=False)"
      ],
      "execution_count": null,
      "outputs": [
        {
          "output_type": "execute_result",
          "data": {
            "text/html": [
              "<div>\n",
              "<style scoped>\n",
              "    .dataframe tbody tr th:only-of-type {\n",
              "        vertical-align: middle;\n",
              "    }\n",
              "\n",
              "    .dataframe tbody tr th {\n",
              "        vertical-align: top;\n",
              "    }\n",
              "\n",
              "    .dataframe thead th {\n",
              "        text-align: right;\n",
              "    }\n",
              "</style>\n",
              "<table border=\"1\" class=\"dataframe\">\n",
              "  <thead>\n",
              "    <tr style=\"text-align: right;\">\n",
              "      <th></th>\n",
              "      <th>ratings</th>\n",
              "      <th>mean</th>\n",
              "    </tr>\n",
              "  </thead>\n",
              "  <tbody>\n",
              "    <tr>\n",
              "      <th>2</th>\n",
              "      <td>rating_Prime Video</td>\n",
              "      <td>7.179801</td>\n",
              "    </tr>\n",
              "    <tr>\n",
              "      <th>0</th>\n",
              "      <td>rating_Netflix</td>\n",
              "      <td>7.163280</td>\n",
              "    </tr>\n",
              "    <tr>\n",
              "      <th>1</th>\n",
              "      <td>rating_Hulu</td>\n",
              "      <td>7.061107</td>\n",
              "    </tr>\n",
              "    <tr>\n",
              "      <th>3</th>\n",
              "      <td>rating_Disney+</td>\n",
              "      <td>6.923669</td>\n",
              "    </tr>\n",
              "  </tbody>\n",
              "</table>\n",
              "</div>"
            ],
            "text/plain": [
              "              ratings      mean\n",
              "2  rating_Prime Video  7.179801\n",
              "0      rating_Netflix  7.163280\n",
              "1         rating_Hulu  7.061107\n",
              "3      rating_Disney+  6.923669"
            ]
          },
          "metadata": {
            "tags": []
          },
          "execution_count": 20
        }
      ]
    },
    {
      "cell_type": "code",
      "metadata": {
        "colab": {
          "base_uri": "https://localhost:8080/",
          "height": 502
        },
        "id": "rM3_iHhVzlgL",
        "outputId": "dbe6d237-fe1b-4502-c97c-e6f2610da53b"
      },
      "source": [
        "plt.figure(figsize=(12,8))\n",
        "ax = sns.barplot(x=\"ratings\", y=\"mean\", data=imdb_platforms)\n",
        "l = ax.set(ylim=(6.8, 7.3))"
      ],
      "execution_count": null,
      "outputs": [
        {
          "output_type": "display_data",
          "data": {
            "image/png": "[encoded data removed]",
            "text/plain": [
              "<Figure size 864x576 with 1 Axes>"
            ]
          },
          "metadata": {
            "tags": [],
            "needs_background": "light"
          }
        }
      ]
    },
    {
      "cell_type": "markdown",
      "metadata": {
        "id": "FtaYPMyodrvR"
      },
      "source": [
        "Though Prime is again the leader in this category, the differences in means are not drastic and very narrow, especially between Prime and Netflix."
      ]
    },
    {
      "cell_type": "markdown",
      "metadata": {
        "id": "_4SZHsJkwA48"
      },
      "source": [
        "##Streaming service with the most highly rated TV series (by IMDb score)"
      ]
    },
    {
      "cell_type": "code",
      "metadata": {
        "id": "cacWGLI4wKPa"
      },
      "source": [
        "#Dataframes for streaming services\n",
        "netflix_shows = df.loc[df['Netflix'] == 1].drop(['Hulu', 'Prime Video', 'Disney+'], axis=1)\n",
        "hulu_shows = df.loc[df['Hulu'] == 1].drop(['Netflix', 'Prime Video', 'Disney+'], axis=1)\n",
        "prime_shows = df.loc[df['Prime Video'] == 1].drop(['Hulu', 'Netflix', 'Disney+'], axis=1)\n",
        "disney_shows = df.loc[df['Disney+'] == 1].drop(['Hulu', 'Prime Video', 'Netflix'], axis=1)"
      ],
      "execution_count": null,
      "outputs": []
    },
    {
      "cell_type": "code",
      "metadata": {
        "id": "wYguKZV2waeN"
      },
      "source": [
        "top_netflix_shows = netflix_shows['IMDb'] > 8\n",
        "top_hulu_shows = hulu_shows['IMDb'] > 8 \n",
        "top_prime_shows = prime_shows['IMDb'] > 8\n",
        "top_disney_shows = disney_shows['IMDb'] > 8\n",
        "\n",
        "top_rated_shows = pd.DataFrame({\n",
        "    'Platforms' : ['Netflix', \n",
        "                   'Hulu', \n",
        "                   'Prime Video', \n",
        "                   'Disney'],\n",
        "    'Total highly rated shows' : [top_netflix_shows.sum(),\n",
        "                                  top_hulu_shows.sum(),\n",
        "                                  top_prime_shows.sum(),\n",
        "                                  top_disney_shows.sum()]})"
      ],
      "execution_count": null,
      "outputs": []
    },
    {
      "cell_type": "code",
      "metadata": {
        "colab": {
          "base_uri": "https://localhost:8080/",
          "height": 482
        },
        "id": "-59XlJXBwvhe",
        "outputId": "16b35a69-8edb-4c89-cf04-24e71f819caa"
      },
      "source": [
        "sns.barplot(x = top_rated_shows['Platforms'],\n",
        "            y = top_rated_shows['Total highly rated shows'],\n",
        "            data = top_rated_shows,\n",
        "           palette = 'bright')\n",
        "\n",
        "plt.xlabel('Platforms')\n",
        "plt.ylabel('Total shows with 8+ Ratings')\n",
        "plt.title('Platforms with Highly Rated Shows')\n",
        "plt.show()\n",
        "\n",
        "top_rated_shows = top_rated_shows.set_index('Platforms')\n",
        "display(top_rated_shows)"
      ],
      "execution_count": null,
      "outputs": [
        {
          "output_type": "display_data",
          "data": {
            "image/png": "[encoded data removed]",
            "text/plain": [
              "<Figure size 432x288 with 1 Axes>"
            ]
          },
          "metadata": {
            "tags": [],
            "needs_background": "light"
          }
        },
        {
          "output_type": "display_data",
          "data": {
            "text/html": [
              "<div>\n",
              "<style scoped>\n",
              "    .dataframe tbody tr th:only-of-type {\n",
              "        vertical-align: middle;\n",
              "    }\n",
              "\n",
              "    .dataframe tbody tr th {\n",
              "        vertical-align: top;\n",
              "    }\n",
              "\n",
              "    .dataframe thead th {\n",
              "        text-align: right;\n",
              "    }\n",
              "</style>\n",
              "<table border=\"1\" class=\"dataframe\">\n",
              "  <thead>\n",
              "    <tr style=\"text-align: right;\">\n",
              "      <th></th>\n",
              "      <th>Total highly rated shows</th>\n",
              "    </tr>\n",
              "    <tr>\n",
              "      <th>Platforms</th>\n",
              "      <th></th>\n",
              "    </tr>\n",
              "  </thead>\n",
              "  <tbody>\n",
              "    <tr>\n",
              "      <th>Netflix</th>\n",
              "      <td>383</td>\n",
              "    </tr>\n",
              "    <tr>\n",
              "      <th>Hulu</th>\n",
              "      <td>279</td>\n",
              "    </tr>\n",
              "    <tr>\n",
              "      <th>Prime Video</th>\n",
              "      <td>293</td>\n",
              "    </tr>\n",
              "    <tr>\n",
              "      <th>Disney</th>\n",
              "      <td>30</td>\n",
              "    </tr>\n",
              "  </tbody>\n",
              "</table>\n",
              "</div>"
            ],
            "text/plain": [
              "             Total highly rated shows\n",
              "Platforms                            \n",
              "Netflix                           383\n",
              "Hulu                              279\n",
              "Prime Video                       293\n",
              "Disney                             30"
            ]
          },
          "metadata": {
            "tags": []
          }
        }
      ]
    },
    {
      "cell_type": "markdown",
      "metadata": {
        "id": "VKInoepnxDOX"
      },
      "source": [
        "Netflix has the most highly-rated tv series (series with IMBd scores >8), followed by Prime Video, Hulu, and Disney, which has the least number of highly-rated TV series significantly.\n",
        "\n",
        "\n",
        "\n",
        "\n"
      ]
    },
    {
      "cell_type": "markdown",
      "metadata": {
        "id": "NouiV-Bqx2F8"
      },
      "source": [
        "##Which streaming services are the top 10 highest-rated TV series on?"
      ]
    },
    {
      "cell_type": "code",
      "metadata": {
        "colab": {
          "base_uri": "https://localhost:8080/",
          "height": 400
        },
        "id": "mEZPw0KPyFIV",
        "outputId": "042edff2-7db4-44c7-eb31-01c5332d6496"
      },
      "source": [
        "df['platform'] = df[['Netflix', 'Hulu', 'Prime Video', 'Disney+']].idxmax(axis=1)\n",
        "\n",
        "overall_top_10 = df.sort_values(by='IMDb', ascending=False).head(10)\n",
        "\n",
        "plt.figure(figsize=(8,8))\n",
        "sns.catplot(x='IMDb', y='Title', data=overall_top_10,hue='platform', kind='bar')\n",
        "plt.show()"
      ],
      "execution_count": null,
      "outputs": [
        {
          "output_type": "display_data",
          "data": {
            "text/plain": [
              "<Figure size 576x576 with 0 Axes>"
            ]
          },
          "metadata": {
            "tags": []
          }
        },
        {
          "output_type": "display_data",
          "data": {
            "image/png": "[encoded data removed]",
            "text/plain": [
              "<Figure size 455.75x360 with 1 Axes>"
            ]
          },
          "metadata": {
            "tags": [],
            "needs_background": "light"
          }
        }
      ]
    },
    {
      "cell_type": "markdown",
      "metadata": {
        "id": "A0Xe3hyoyOXK"
      },
      "source": [
        "Though Hulu has the highest-rated TV series on IMBd, \"Destiny\", Prime Video has the most TV series in the top 10 highest rated. "
      ]
    },
    {
      "cell_type": "markdown",
      "metadata": {
        "id": "w-sdp0MV8BZC"
      },
      "source": [
        "#Statistical Analysis"
      ]
    },
    {
      "cell_type": "markdown",
      "metadata": {
        "id": "mv_kxhqUB7LI"
      },
      "source": [
        "The research will determine which streaming service has the highest average  IMDb rating, comparing Netflix and Prime Video. Is there a statistically significant difference in the mean rating of shows on Netflix vs. Prime Video? \n",
        "<br> **Hypothesis:**<br> Ho: mean rating of shows on Netflix = mean rating of shows on PrimeVideo<br> Ha: mean rating of shows on Netflix <> mean rating of shows on Prime Video.<br> \n",
        "**Hypothesis: Prime Video has the higher mean IMDb rating. I will test my hypothesis by an independent sample t-tests.**\n"
      ]
    },
    {
      "cell_type": "markdown",
      "metadata": {
        "id": "CAVTfMjm8NIc"
      },
      "source": [
        "## Descriptive Statistics"
      ]
    },
    {
      "cell_type": "code",
      "metadata": {
        "id": "aQmdAnNYBZVj"
      },
      "source": [
        "from scipy import stats"
      ],
      "execution_count": null,
      "outputs": []
    },
    {
      "cell_type": "code",
      "metadata": {
        "id": "5fQ5zgyH-tMF"
      },
      "source": [
        "def series_statistics (column): \n",
        "  print('statistics for column: {}'.format(column.name))\n",
        "  print('The max value in the column: {}'.format(column.max()))\n",
        "  print('The min value in the column: {}'.format(column.min()))\n",
        "  print('The mode value in the column: {}'.format(column.mode()))\n",
        "  print('The median value in the column: {}'.format(column.median()))\n",
        "  print('The mean of the column: {}'.format(column.mean()))\n",
        "  print('The std of the column: {}'.format(column.std()))"
      ],
      "execution_count": null,
      "outputs": []
    },
    {
      "cell_type": "code",
      "metadata": {
        "colab": {
          "base_uri": "https://localhost:8080/"
        },
        "id": "MGRlIcff_BsG",
        "outputId": "069c70b4-39d5-4cf1-8a87-035d67701c25"
      },
      "source": [
        "series_statistics(netflix_shows['IMDb'])"
      ],
      "execution_count": null,
      "outputs": [
        {
          "output_type": "stream",
          "text": [
            "statistics for column: IMDb\n",
            "The max value in the column: 9.5\n",
            "The min value in the column: 1.0\n",
            "The mode value in the column: 0    7.4\n",
            "dtype: float64\n",
            "The median value in the column: 7.4\n",
            "The mean of the column: 7.163279955825518\n",
            "The std of the column: 1.0883380093915715\n"
          ],
          "name": "stdout"
        }
      ]
    },
    {
      "cell_type": "code",
      "metadata": {
        "colab": {
          "base_uri": "https://localhost:8080/"
        },
        "id": "4xixD702AFYA",
        "outputId": "ac269597-b461-402d-8ace-699194bda3db"
      },
      "source": [
        "netflix_shows['IMDb'].describe()"
      ],
      "execution_count": null,
      "outputs": [
        {
          "output_type": "execute_result",
          "data": {
            "text/plain": [
              "count    1811.000000\n",
              "mean        7.163280\n",
              "std         1.088338\n",
              "min         1.000000\n",
              "25%         6.600000\n",
              "50%         7.400000\n",
              "75%         8.000000\n",
              "max         9.500000\n",
              "Name: IMDb, dtype: float64"
            ]
          },
          "metadata": {
            "tags": []
          },
          "execution_count": 14
        }
      ]
    },
    {
      "cell_type": "code",
      "metadata": {
        "colab": {
          "base_uri": "https://localhost:8080/"
        },
        "id": "B4Egrd-U_q9N",
        "outputId": "7467fa9c-cd36-4e42-ed1e-c14dbb40b8cd"
      },
      "source": [
        "series_statistics(prime_shows['IMDb'])"
      ],
      "execution_count": null,
      "outputs": [
        {
          "output_type": "stream",
          "text": [
            "statistics for column: IMDb\n",
            "The max value in the column: 9.5\n",
            "The min value in the column: 1.8\n",
            "The mode value in the column: 0    7.4\n",
            "dtype: float64\n",
            "The median value in the column: 7.4\n",
            "The mean of the column: 7.1798010711553095\n",
            "The std of the column: 1.1335097577041378\n"
          ],
          "name": "stdout"
        }
      ]
    },
    {
      "cell_type": "code",
      "metadata": {
        "colab": {
          "base_uri": "https://localhost:8080/"
        },
        "id": "MFh8U_n3AMpd",
        "outputId": "5b3f9962-2d55-4d1d-ed7b-d2b0c0ac9a95"
      },
      "source": [
        "prime_shows['IMDb'].describe()"
      ],
      "execution_count": null,
      "outputs": [
        {
          "output_type": "execute_result",
          "data": {
            "text/plain": [
              "count    1307.000000\n",
              "mean        7.179801\n",
              "std         1.133510\n",
              "min         1.800000\n",
              "25%         6.600000\n",
              "50%         7.400000\n",
              "75%         8.000000\n",
              "max         9.500000\n",
              "Name: IMDb, dtype: float64"
            ]
          },
          "metadata": {
            "tags": []
          },
          "execution_count": 16
        }
      ]
    },
    {
      "cell_type": "markdown",
      "metadata": {
        "id": "QhN0LMnu8KYk"
      },
      "source": [
        "## T-test"
      ]
    },
    {
      "cell_type": "code",
      "metadata": {
        "colab": {
          "base_uri": "https://localhost:8080/"
        },
        "id": "Nz0KBGEIA15q",
        "outputId": "01f28149-3658-4042-a7d4-973e49556de0"
      },
      "source": [
        "stats.ttest_ind(netflix_shows.dropna()['IMDb'], prime_shows.dropna()['IMDb'])"
      ],
      "execution_count": null,
      "outputs": [
        {
          "output_type": "execute_result",
          "data": {
            "text/plain": [
              "Ttest_indResult(statistic=-1.7391632139241453, pvalue=0.08249762304008312)"
            ]
          },
          "metadata": {
            "tags": []
          },
          "execution_count": 17
        }
      ]
    },
    {
      "cell_type": "markdown",
      "metadata": {
        "id": "edmoMhnjECFH"
      },
      "source": [
        "There is a difference of 1.73 standard deviations between these two means. But is this just due to random chance, or is that difference significant? The p-value is extremely small, implying that this is a real difference. These results lead us to reject the null hypothesis that there is no difference between Netflix's and Prime Video's IMDb mean.\n",
        "\n"
      ]
    },
    {
      "cell_type": "markdown",
      "metadata": {
        "id": "gy1kXhz6E37m"
      },
      "source": [
        "## Confidence Interval"
      ]
    },
    {
      "cell_type": "markdown",
      "metadata": {
        "id": "zYXMv9FmFCIJ"
      },
      "source": [
        "To calculate the confidence interval, take your mean difference plus or minus the *margin of error*, which is calculated as your standard error of the mean difference times the test statistic of `1.96`."
      ]
    },
    {
      "cell_type": "code",
      "metadata": {
        "id": "s7VwGjHwE7Ne"
      },
      "source": [
        "# Calculate the sample size, mean, and variance of each sample.\n",
        "import math\n",
        "sample_1_n = netflix_shows.shape[0]\n",
        "sample_2_n = prime_shows.shape[0]\n",
        "sample_1_mean = netflix_shows['IMDb'].mean()\n",
        "sample_2_mean = prime_shows['IMDb'].mean()\n",
        "sample_1_var = netflix_shows['IMDb'].var()\n",
        "sample_2_var = prime_shows['IMDb'].var()"
      ],
      "execution_count": null,
      "outputs": []
    },
    {
      "cell_type": "code",
      "metadata": {
        "colab": {
          "base_uri": "https://localhost:8080/"
        },
        "id": "AjnOxrSGGlQK",
        "outputId": "457c8112-62db-4365-efa7-a056694de3ac"
      },
      "source": [
        "# Calculate the standard error and compute the confidence intervals.\n",
        "\n",
        "import math\n",
        "std_err_difference = math.sqrt((sample_1_var/sample_1_n)+(sample_2_var/sample_2_n))\n",
        "\n",
        "mean_difference = sample_2_mean - sample_1_mean\n",
        "\n",
        "margin_of_error = 1.96 * std_err_difference\n",
        "ci_lower = mean_difference - margin_of_error\n",
        "ci_upper = mean_difference + margin_of_error\n",
        "\n",
        "print(\"The difference in means at the 95% confidence interval is between \"+str(ci_lower)+\" and \"+str(ci_upper)+\".\")"
      ],
      "execution_count": null,
      "outputs": [
        {
          "output_type": "stream",
          "text": [
            "The difference in means at the 95% confidence interval is between -0.05173295764985962 and 0.08477518830944351.\n"
          ],
          "name": "stdout"
        }
      ]
    },
    {
      "cell_type": "markdown",
      "metadata": {
        "id": "k1Vt_E6f8SU4"
      },
      "source": [
        "# Conclusion"
      ]
    },
    {
      "cell_type": "markdown",
      "metadata": {
        "id": "yCxiVaoiwOlL"
      },
      "source": [
        "Through thorough analysis, the t-test concluded that there is a difference between Netflix's and Prime Video's IMDb mean. Though we can reject the null hypothesis, the hypothesis of Prime Video's higher mean is true. \n",
        "\n",
        "While comparing the different streaming services, Prime Video is the leader in almost every category except the quantity of highly-rated TV series, where Netflix leads by 90 more TV series with an IMDb score >8. In all categories (except the tie in which platform the top 10 highest-rated TV series are streaming as Hulu ties Netflix), Hulu is the 3rd top streaming service, and Disney+ is significantly the last.\n",
        "\n",
        " These findings will be valuable for consumers, helping new subscribers see which streaming service has the most value and assisting current subscribers to decide whether to stick to their streaming service, change services, or even subscribe to additional services. These findings will also help the streaming services determine if they should acquire higher-rated TV shows, create or acquire more highly-rated content to their services. Additionally, these findings would benefit advertising and marketing teams and producers contemplating which service to work with. "
      ]
    }
  ]
}